{
  "nbformat": 4,
  "nbformat_minor": 0,
  "metadata": {
    "colab": {
      "name": "Untitled2.ipynb",
      "provenance": []
    },
    "kernelspec": {
      "name": "python3",
      "display_name": "Python 3"
    }
  },
  "cells": [
    {
      "cell_type": "code",
      "metadata": {
        "id": "xLfTaqESAb-A"
      },
      "source": [
        ""
      ],
      "execution_count": null,
      "outputs": []
    },
    {
      "cell_type": "code",
      "metadata": {
        "id": "FAIihqaH9e2R"
      },
      "source": [
        "import os\n",
        "import tensorflow as tf\n",
        "from keras.models import load_model\n",
        "from keras.preprocessing import image\n",
        "# Load necessary packages\n",
        "from keras.datasets import cifar10\n",
        "from keras.utils import np_utils\n",
        "from matplotlib import pyplot as plt\n",
        "import numpy as np\n",
        "from PIL import Image\n"
      ],
      "execution_count": 6,
      "outputs": []
    },
    {
      "cell_type": "code",
      "metadata": {
        "id": "D3JpuYlvGi3o"
      },
      "source": [
        "# make dictionary of class labels and names\n",
        "classes = range(0,10)\n",
        "\n",
        "names = ['airplane',\n",
        "        'automobile',\n",
        "        'bird',\n",
        "        'cat',\n",
        "        'deer',\n",
        "        'dog',\n",
        "        'frog',\n",
        "        'horse',\n",
        "        'ship',\n",
        "        'truck']\n",
        "\n",
        "# zip the names and classes to make a dictionary of class_labels\n",
        "class_labels = dict(zip(classes, names))\n"
      ],
      "execution_count": 9,
      "outputs": []
    },
    {
      "cell_type": "code",
      "metadata": {
        "colab": {
          "base_uri": "https://localhost:8080/"
        },
        "id": "De3Z4URW-gLo",
        "outputId": "1d952646-37e0-4230-997e-df97fc4ab1ca"
      },
      "source": [
        "loaded_model = tf.keras.models.load_model('all_cnn.h5')\n",
        "loaded_model.layers[0].input_shape"
      ],
      "execution_count": 7,
      "outputs": [
        {
          "output_type": "execute_result",
          "data": {
            "text/plain": [
              "(None, 32, 32, 3)"
            ]
          },
          "metadata": {
            "tags": []
          },
          "execution_count": 7
        }
      ]
    },
    {
      "cell_type": "code",
      "metadata": {
        "colab": {
          "base_uri": "https://localhost:8080/",
          "height": 283
        },
        "id": "0uE5PPF8-m_K",
        "outputId": "531b4b87-948e-4e32-917c-0423149680f4"
      },
      "source": [
        "IMG_SIZE = 32\n",
        "image_path=\"cat.jpg\"\n",
        "img = image.load_img(image_path, target_size=(IMG_SIZE, IMG_SIZE))\n",
        "plt.imshow(img)\n",
        "img = np.expand_dims(img, axis=0)\n",
        "result=loaded_model.predict_classes(img)\n",
        "print(\"the predicted object in image is\", class_labels[result[0]])"
      ],
      "execution_count": 10,
      "outputs": [
        {
          "output_type": "stream",
          "text": [
            "the predicted object in image is cat\n"
          ],
          "name": "stdout"
        },
        {
          "output_type": "display_data",
          "data": {
            "image/png": "[encoded data removed]",
            "text/plain": [
              "<Figure size 432x288 with 1 Axes>"
            ]
          },
          "metadata": {
            "tags": [],
            "needs_background": "light"
          }
        }
      ]
    }
  ]
}