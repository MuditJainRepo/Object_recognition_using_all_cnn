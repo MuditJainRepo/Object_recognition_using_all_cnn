{
  "nbformat": 4,
  "nbformat_minor": 0,
  "metadata": {
    "colab": {
      "name": "Untitled3.ipynb",
      "provenance": [],
      "collapsed_sections": [],
      "authorship_tag": "ABX9TyPKnlRO3hdOOhsb0zbC2zEu",
      "include_colab_link": true
    },
    "kernelspec": {
      "name": "python3",
      "display_name": "Python 3"
    }
  },
  "cells": [
    {
      "cell_type": "markdown",
      "metadata": {
        "id": "view-in-github",
        "colab_type": "text"
      },
      "source": [
        "<a href=\"https://colab.research.google.com/github/TheOneDemonHavingFun/Object_recognition_using_all_cnn/blob/main/app_flask.ipynb\" target=\"_parent\"><img src=\"https://colab.research.google.com/assets/colab-badge.svg\" alt=\"Open In Colab\"/></a>"
      ]
    },
    {
      "cell_type": "code",
      "metadata": {
        "id": "3OoNOBtpmZSE",
        "colab": {
          "base_uri": "https://localhost:8080/"
        },
        "outputId": "5580725d-9c2d-403d-f207-de2ab10fda9f"
      },
      "source": [
        "# coding=utf-8\n",
        "import sys\n",
        "import os\n",
        "import numpy as np\n",
        "from flask_ngrok import run_with_ngrok\n",
        "\n",
        "# Keras\n",
        "from keras.models import load_model\n",
        "from keras.preprocessing import image\n",
        "\n",
        "# Flask utils\n",
        "from flask import Flask, redirect, url_for, request, render_template\n",
        "from werkzeug.utils import secure_filename\n",
        "from gevent.pywsgi import WSGIServer\n",
        "\n",
        "# Define a flask app\n",
        "app = Flask(__name__)\n",
        "run_with_ngrok(app)\n",
        "\n",
        "# Model saved with Keras model.save()\n",
        "MODEL_PATH = 'my_cifar10_model.h5'\n",
        "\n",
        "global model\n",
        "# Load your trained model\n",
        "model = load_model(MODEL_PATH)      # Necessary\n",
        "# print('Model loaded. Start serving...')\n",
        "print('Model loaded. Check http://127.0.0.1:5000/')\n",
        "\n",
        "@app.route('/', methods=['GET', 'POST']) \n",
        "def main_page():\n",
        "    if request.method == 'POST':\n",
        "        file = request.files['file']\n",
        "        filename = secure_filename(file.filename)\n",
        "        file.save(os.path.join('uploads', filename))\n",
        "        return redirect(url_for('prediction', filename=filename))\n",
        "    return render_template('index.html')\n",
        "\n",
        "@app.route('/prediction/<filename>') \n",
        "def prediction(filename):\n",
        "    #Step 1\n",
        "    my_image = plt.imread(os.path.join('uploads', filename))\n",
        "    #Step 2\n",
        "    my_image_re = resize(my_image, (32,32,3))\n",
        "    \n",
        "    #Step 3\n",
        "    probabilities = model.predict(np.array( [my_image_re,] ))[0,:]\n",
        "    print(probabilities)\n",
        "    #Step 4\n",
        "    number_to_class = ['airplane', 'automobile', 'bird', 'cat', 'deer', 'dog', 'frog', 'horse', 'ship', \n",
        "'truck']\n",
        "    index = np.argsort(probabilities)\n",
        "    predictions = {\n",
        "      \"class1\":number_to_class[index[9]],\n",
        "      \"class2\":number_to_class[index[8]],\n",
        "      \"class3\":number_to_class[index[7]],\n",
        "      \"prob1\":probabilities[index[9]],\n",
        "      \"prob2\":probabilities[index[8]],\n",
        "      \"prob3\":probabilities[index[7]],\n",
        "    }\n",
        "    #Step 5\n",
        "    return render_template('predict.html', predictions=predictions)\n",
        "\n",
        "\n",
        "app.run()"
      ],
      "execution_count": 27,
      "outputs": [
        {
          "output_type": "stream",
          "text": [
            "Model loaded. Check http://127.0.0.1:5000/\n",
            " * Serving Flask app \"__main__\" (lazy loading)\n",
            " * Environment: production\n",
            "\u001b[31m   WARNING: This is a development server. Do not use it in a production deployment.\u001b[0m\n",
            "\u001b[2m   Use a production WSGI server instead.\u001b[0m\n",
            " * Debug mode: off\n",
            " * Running on http://fc623f3d7493.ngrok.io\n",
            " * Traffic stats available on http://127.0.0.1:4040\n"
          ],
          "name": "stdout"
        },
        {
          "output_type": "stream",
          "text": [
            "127.0.0.1 - - [01/Dec/2020 06:59:12] \"\u001b[37mGET / HTTP/1.1\u001b[0m\" 200 -\n",
            "127.0.0.1 - - [01/Dec/2020 06:59:14] \"\u001b[33mGET /favicon.ico HTTP/1.1\u001b[0m\" 404 -\n",
            "127.0.0.1 - - [01/Dec/2020 06:59:21] \"\u001b[32mPOST / HTTP/1.1\u001b[0m\" 302 -\n",
            "127.0.0.1 - - [01/Dec/2020 06:59:22] \"\u001b[37mGET /prediction/cat.jpg HTTP/1.1\u001b[0m\" 200 -\n"
          ],
          "name": "stderr"
        },
        {
          "output_type": "stream",
          "text": [
            "[3.9259181e-03 1.7013099e-06 4.1807783e-01 4.7485834e-01 7.3349127e-03\n",
            " 5.5591078e-03 4.8694955e-04 8.7546818e-02 2.1916199e-03 1.6888454e-05]\n"
          ],
          "name": "stdout"
        }
      ]
    },
    {
      "cell_type": "code",
      "metadata": {
        "id": "JAQOwrH2uN46"
      },
      "source": [
        ""
      ],
      "execution_count": null,
      "outputs": []
    }
  ]
}